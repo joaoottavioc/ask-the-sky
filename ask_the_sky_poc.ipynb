{
 "cells": [
  {
   "cell_type": "code",
   "execution_count": 1,
   "id": "1504448a-e558-4050-b099-3ffd3a7642fb",
   "metadata": {},
   "outputs": [
    {
     "name": "stdout",
     "output_type": "stream",
     "text": [
      "Ambiente configurado. Cliente Bluesky pronto para uso.\n"
     ]
    }
   ],
   "source": [
    "import os\n",
    "from src.clients.bluesky_client import BlueskyClient\n",
    "from src.core.config import settings\n",
    "\n",
    "# Configura a chave de API do Google para o LangChain\n",
    "os.environ['GOOGLE_API_KEY'] = settings.GOOGLE_API_KEY\n",
    "\n",
    "print(\"Ambiente configurado. Cliente Bluesky pronto para uso.\")"
   ]
  },
  {
   "cell_type": "code",
   "execution_count": 2,
   "id": "9287f007-04d6-4535-87ba-8d3215e100e7",
   "metadata": {},
   "outputs": [
    {
     "name": "stdout",
     "output_type": "stream",
     "text": [
      "Login bem-sucedido como: \n",
      "Coletados 1000 posts para a busca 'Charlie Kirk'.\n",
      "Amostra do primeiro post: Donald Trump is preaching lies to his MAGA Base which are Christian White Nationalists, for whom Charlie Kirk is \n",
      "\n",
      "A Christian martyr who died for \n",
      "hi...\n"
     ]
    }
   ],
   "source": [
    "# Célula 2 (VERSÃO ATUALIZADA)\n",
    "\n",
    "# Instancia e faz o login no Bluesky\n",
    "bsky = BlueskyClient()\n",
    "bsky.login()\n",
    "\n",
    "# Vamos buscar posts usando uma palavra-chave comum para garantir que teremos resultados.\n",
    "# Tente usar termos genéricos como \"Brasil\", \"tecnologia\", \"IA\", etc.\n",
    "search_query = \"Charlie Kirk\"\n",
    "posts = bsky.search_posts(query=search_query, limit=1000)\n",
    "\n",
    "# Extrai e limpa o texto dos posts\n",
    "# A estrutura do objeto de post da busca é um pouco diferente, por isso ajustamos o código\n",
    "post_texts = [p.record.text for p in posts if hasattr(p, 'record') and hasattr(p.record, 'text')]\n",
    "\n",
    "print(f\"Coletados {len(post_texts)} posts para a busca '{search_query}'.\")\n",
    "if post_texts:\n",
    "    print(\"Amostra do primeiro post:\", post_texts[0][:150] + \"...\")"
   ]
  },
  {
   "cell_type": "code",
   "execution_count": 3,
   "id": "578753aa-a7ee-4e93-b348-a0b1f168c96e",
   "metadata": {},
   "outputs": [
    {
     "name": "stdout",
     "output_type": "stream",
     "text": [
      "Iniciando o processo de embedding. Isso pode levar um momento...\n"
     ]
    },
    {
     "name": "stderr",
     "output_type": "stream",
     "text": [
      "C:\\Users\\joaoo\\AppData\\Local\\Temp\\ipykernel_33892\\2297149645.py:8: LangChainDeprecationWarning: The class `HuggingFaceEmbeddings` was deprecated in LangChain 0.2.2 and will be removed in 1.0. An updated version of the class exists in the :class:`~langchain-huggingface package and should be used instead. To use it run `pip install -U :class:`~langchain-huggingface` and import as `from :class:`~langchain_huggingface import HuggingFaceEmbeddings``.\n",
      "  embeddings = HuggingFaceEmbeddings(model_name=model_name)\n",
      "C:\\Users\\joaoo\\AppData\\Local\\pypoetry\\Cache\\virtualenvs\\ask-the-sky-Gtuqa6oy-py3.11\\Lib\\site-packages\\tqdm\\auto.py:21: TqdmWarning: IProgress not found. Please update jupyter and ipywidgets. See https://ipywidgets.readthedocs.io/en/stable/user_install.html\n",
      "  from .autonotebook import tqdm as notebook_tqdm\n"
     ]
    },
    {
     "name": "stdout",
     "output_type": "stream",
     "text": [
      "Base de conhecimento vetorial criada com sucesso!\n"
     ]
    }
   ],
   "source": [
    "from langchain_community.vectorstores import FAISS\n",
    "from langchain_community.embeddings import HuggingFaceEmbeddings\n",
    "\n",
    "print(\"Iniciando o processo de embedding. Isso pode levar um momento...\")\n",
    "\n",
    "# Inicializa o modelo de embedding. Ele será baixado na primeira vez.\n",
    "model_name = \"sentence-transformers/all-MiniLM-L6-v2\"\n",
    "embeddings = HuggingFaceEmbeddings(model_name=model_name)\n",
    "\n",
    "# Cria o banco de dados vetorial em memória com os textos dos posts\n",
    "vector_store = FAISS.from_texts(texts=post_texts, embedding=embeddings)\n",
    "\n",
    "print(\"Base de conhecimento vetorial criada com sucesso!\")"
   ]
  },
  {
   "cell_type": "code",
   "execution_count": 4,
   "id": "883ed36a-32da-4f20-9c58-fef562ad23d2",
   "metadata": {},
   "outputs": [
    {
     "name": "stdout",
     "output_type": "stream",
     "text": [
      "\n",
      "Pergunta: Quais as ultimas novidades sobre o crime?\n",
      "\n",
      "--- Resposta da IA (GPT-4o mini) ---\n",
      "Não sei.\n"
     ]
    }
   ],
   "source": [
    "# Célula 4 (VERSÃO ATUALIZADA para GPT-4o mini)\n",
    "import os\n",
    "from langchain_openai import ChatOpenAI\n",
    "from langchain.chains import RetrievalQA\n",
    "from src.core.config import settings\n",
    "\n",
    "# Configura a chave da OpenAI para o LangChain\n",
    "os.environ['OPENAI_API_KEY'] = settings.OPENAI_API_KEY\n",
    "\n",
    "# Inicializa o LLM (GPT-4o mini)\n",
    "llm = ChatOpenAI(model=\"gpt-4o-mini\", temperature=0.3)\n",
    "\n",
    "# Cria a cadeia de RAG (esta parte não muda!)\n",
    "rag_chain = RetrievalQA.from_chain_type(\n",
    "    llm=llm,\n",
    "    chain_type=\"stuff\",\n",
    "    retriever=vector_store.as_retriever(search_kwargs={\"k\": 5}) # Busca os 5 chunks mais relevantes\n",
    ")\n",
    "\n",
    "# Agora, fazemos a pergunta!\n",
    "question = \"Quais as ultimas novidades sobre o crime? Ja se sabe se o atirador agiu sozinho?\"\n",
    "\n",
    "print(f\"\\nPergunta: {question}\")\n",
    "\n",
    "# Invoca a cadeia para obter a resposta\n",
    "response = rag_chain.invoke(question)\n",
    "\n",
    "print(\"\\n--- Resposta da IA (GPT-4o mini) ---\")\n",
    "print(response['result'])"
   ]
  },
  {
   "cell_type": "code",
   "execution_count": null,
   "id": "7597a848-ebd2-4243-a45e-f340a5b692fe",
   "metadata": {},
   "outputs": [],
   "source": []
  }
 ],
 "metadata": {
  "kernelspec": {
   "display_name": "Python 3 (ipykernel)",
   "language": "python",
   "name": "python3"
  },
  "language_info": {
   "codemirror_mode": {
    "name": "ipython",
    "version": 3
   },
   "file_extension": ".py",
   "mimetype": "text/x-python",
   "name": "python",
   "nbconvert_exporter": "python",
   "pygments_lexer": "ipython3",
   "version": "3.11.0"
  }
 },
 "nbformat": 4,
 "nbformat_minor": 5
}
